{
 "cells": [
  {
   "cell_type": "code",
   "execution_count": 1,
   "metadata": {},
   "outputs": [
    {
     "data": {
      "text/html": [
       "<div>\n",
       "<style scoped>\n",
       "    .dataframe tbody tr th:only-of-type {\n",
       "        vertical-align: middle;\n",
       "    }\n",
       "\n",
       "    .dataframe tbody tr th {\n",
       "        vertical-align: top;\n",
       "    }\n",
       "\n",
       "    .dataframe thead th {\n",
       "        text-align: right;\n",
       "    }\n",
       "</style>\n",
       "<table border=\"1\" class=\"dataframe\">\n",
       "  <thead>\n",
       "    <tr style=\"text-align: right;\">\n",
       "      <th></th>\n",
       "      <th>RowNumber</th>\n",
       "      <th>CustomerId</th>\n",
       "      <th>Surname</th>\n",
       "      <th>CreditScore</th>\n",
       "      <th>Geography</th>\n",
       "      <th>Gender</th>\n",
       "      <th>Age</th>\n",
       "      <th>Tenure</th>\n",
       "      <th>Balance</th>\n",
       "      <th>NumOfProducts</th>\n",
       "      <th>HasCrCard</th>\n",
       "      <th>IsActiveMember</th>\n",
       "      <th>EstimatedSalary</th>\n",
       "      <th>Exited</th>\n",
       "    </tr>\n",
       "  </thead>\n",
       "  <tbody>\n",
       "    <tr>\n",
       "      <th>0</th>\n",
       "      <td>1</td>\n",
       "      <td>15634602</td>\n",
       "      <td>Hargrave</td>\n",
       "      <td>619</td>\n",
       "      <td>France</td>\n",
       "      <td>Female</td>\n",
       "      <td>42</td>\n",
       "      <td>2</td>\n",
       "      <td>0.00</td>\n",
       "      <td>1</td>\n",
       "      <td>1</td>\n",
       "      <td>1</td>\n",
       "      <td>101348.88</td>\n",
       "      <td>1</td>\n",
       "    </tr>\n",
       "    <tr>\n",
       "      <th>1</th>\n",
       "      <td>2</td>\n",
       "      <td>15647311</td>\n",
       "      <td>Hill</td>\n",
       "      <td>608</td>\n",
       "      <td>Spain</td>\n",
       "      <td>Female</td>\n",
       "      <td>41</td>\n",
       "      <td>1</td>\n",
       "      <td>83807.86</td>\n",
       "      <td>1</td>\n",
       "      <td>0</td>\n",
       "      <td>1</td>\n",
       "      <td>112542.58</td>\n",
       "      <td>0</td>\n",
       "    </tr>\n",
       "    <tr>\n",
       "      <th>2</th>\n",
       "      <td>3</td>\n",
       "      <td>15619304</td>\n",
       "      <td>Onio</td>\n",
       "      <td>502</td>\n",
       "      <td>France</td>\n",
       "      <td>Female</td>\n",
       "      <td>42</td>\n",
       "      <td>8</td>\n",
       "      <td>159660.80</td>\n",
       "      <td>3</td>\n",
       "      <td>1</td>\n",
       "      <td>0</td>\n",
       "      <td>113931.57</td>\n",
       "      <td>1</td>\n",
       "    </tr>\n",
       "    <tr>\n",
       "      <th>3</th>\n",
       "      <td>4</td>\n",
       "      <td>15701354</td>\n",
       "      <td>Boni</td>\n",
       "      <td>699</td>\n",
       "      <td>France</td>\n",
       "      <td>Female</td>\n",
       "      <td>39</td>\n",
       "      <td>1</td>\n",
       "      <td>0.00</td>\n",
       "      <td>2</td>\n",
       "      <td>0</td>\n",
       "      <td>0</td>\n",
       "      <td>93826.63</td>\n",
       "      <td>0</td>\n",
       "    </tr>\n",
       "    <tr>\n",
       "      <th>4</th>\n",
       "      <td>5</td>\n",
       "      <td>15737888</td>\n",
       "      <td>Mitchell</td>\n",
       "      <td>850</td>\n",
       "      <td>Spain</td>\n",
       "      <td>Female</td>\n",
       "      <td>43</td>\n",
       "      <td>2</td>\n",
       "      <td>125510.82</td>\n",
       "      <td>1</td>\n",
       "      <td>1</td>\n",
       "      <td>1</td>\n",
       "      <td>79084.10</td>\n",
       "      <td>0</td>\n",
       "    </tr>\n",
       "  </tbody>\n",
       "</table>\n",
       "</div>"
      ],
      "text/plain": [
       "   RowNumber  CustomerId   Surname  CreditScore Geography  Gender  Age  \\\n",
       "0          1    15634602  Hargrave          619    France  Female   42   \n",
       "1          2    15647311      Hill          608     Spain  Female   41   \n",
       "2          3    15619304      Onio          502    France  Female   42   \n",
       "3          4    15701354      Boni          699    France  Female   39   \n",
       "4          5    15737888  Mitchell          850     Spain  Female   43   \n",
       "\n",
       "   Tenure    Balance  NumOfProducts  HasCrCard  IsActiveMember  \\\n",
       "0       2       0.00              1          1               1   \n",
       "1       1   83807.86              1          0               1   \n",
       "2       8  159660.80              3          1               0   \n",
       "3       1       0.00              2          0               0   \n",
       "4       2  125510.82              1          1               1   \n",
       "\n",
       "   EstimatedSalary  Exited  \n",
       "0        101348.88       1  \n",
       "1        112542.58       0  \n",
       "2        113931.57       1  \n",
       "3         93826.63       0  \n",
       "4         79084.10       0  "
      ]
     },
     "execution_count": 1,
     "metadata": {},
     "output_type": "execute_result"
    }
   ],
   "source": [
    "import numpy as np\n",
    "import matplotlib.pyplot as plt\n",
    "import pandas as pd\n",
    "dataset = pd.read_csv(\"Churn_Modelling.csv\")\n",
    "dataset.head()"
   ]
  },
  {
   "cell_type": "code",
   "execution_count": 2,
   "metadata": {},
   "outputs": [
    {
     "name": "stderr",
     "output_type": "stream",
     "text": [
      "Using TensorFlow backend.\n"
     ]
    }
   ],
   "source": [
    "import keras"
   ]
  },
  {
   "cell_type": "code",
   "execution_count": 3,
   "metadata": {},
   "outputs": [
    {
     "name": "stdout",
     "output_type": "stream",
     "text": [
      "<class 'pandas.core.frame.DataFrame'>\n",
      "RangeIndex: 10000 entries, 0 to 9999\n",
      "Data columns (total 14 columns):\n",
      "RowNumber          10000 non-null int64\n",
      "CustomerId         10000 non-null int64\n",
      "Surname            10000 non-null object\n",
      "CreditScore        10000 non-null int64\n",
      "Geography          10000 non-null object\n",
      "Gender             10000 non-null object\n",
      "Age                10000 non-null int64\n",
      "Tenure             10000 non-null int64\n",
      "Balance            10000 non-null float64\n",
      "NumOfProducts      10000 non-null int64\n",
      "HasCrCard          10000 non-null int64\n",
      "IsActiveMember     10000 non-null int64\n",
      "EstimatedSalary    10000 non-null float64\n",
      "Exited             10000 non-null int64\n",
      "dtypes: float64(2), int64(9), object(3)\n",
      "memory usage: 1.1+ MB\n"
     ]
    }
   ],
   "source": [
    "dataset.info()"
   ]
  },
  {
   "cell_type": "code",
   "execution_count": 4,
   "metadata": {},
   "outputs": [],
   "source": [
    "X = dataset.iloc[:, 3:13]\n",
    "y = dataset.iloc[:, 13]"
   ]
  },
  {
   "cell_type": "code",
   "execution_count": 5,
   "metadata": {},
   "outputs": [
    {
     "data": {
      "text/html": [
       "<div>\n",
       "<style scoped>\n",
       "    .dataframe tbody tr th:only-of-type {\n",
       "        vertical-align: middle;\n",
       "    }\n",
       "\n",
       "    .dataframe tbody tr th {\n",
       "        vertical-align: top;\n",
       "    }\n",
       "\n",
       "    .dataframe thead th {\n",
       "        text-align: right;\n",
       "    }\n",
       "</style>\n",
       "<table border=\"1\" class=\"dataframe\">\n",
       "  <thead>\n",
       "    <tr style=\"text-align: right;\">\n",
       "      <th></th>\n",
       "      <th>CreditScore</th>\n",
       "      <th>Age</th>\n",
       "      <th>Tenure</th>\n",
       "      <th>Balance</th>\n",
       "      <th>NumOfProducts</th>\n",
       "      <th>HasCrCard</th>\n",
       "      <th>IsActiveMember</th>\n",
       "      <th>EstimatedSalary</th>\n",
       "      <th>Germany</th>\n",
       "      <th>Spain</th>\n",
       "      <th>Male</th>\n",
       "    </tr>\n",
       "  </thead>\n",
       "  <tbody>\n",
       "    <tr>\n",
       "      <th>0</th>\n",
       "      <td>619</td>\n",
       "      <td>42</td>\n",
       "      <td>2</td>\n",
       "      <td>0.00</td>\n",
       "      <td>1</td>\n",
       "      <td>1</td>\n",
       "      <td>1</td>\n",
       "      <td>101348.88</td>\n",
       "      <td>0</td>\n",
       "      <td>0</td>\n",
       "      <td>0</td>\n",
       "    </tr>\n",
       "    <tr>\n",
       "      <th>1</th>\n",
       "      <td>608</td>\n",
       "      <td>41</td>\n",
       "      <td>1</td>\n",
       "      <td>83807.86</td>\n",
       "      <td>1</td>\n",
       "      <td>0</td>\n",
       "      <td>1</td>\n",
       "      <td>112542.58</td>\n",
       "      <td>0</td>\n",
       "      <td>1</td>\n",
       "      <td>0</td>\n",
       "    </tr>\n",
       "    <tr>\n",
       "      <th>2</th>\n",
       "      <td>502</td>\n",
       "      <td>42</td>\n",
       "      <td>8</td>\n",
       "      <td>159660.80</td>\n",
       "      <td>3</td>\n",
       "      <td>1</td>\n",
       "      <td>0</td>\n",
       "      <td>113931.57</td>\n",
       "      <td>0</td>\n",
       "      <td>0</td>\n",
       "      <td>0</td>\n",
       "    </tr>\n",
       "    <tr>\n",
       "      <th>3</th>\n",
       "      <td>699</td>\n",
       "      <td>39</td>\n",
       "      <td>1</td>\n",
       "      <td>0.00</td>\n",
       "      <td>2</td>\n",
       "      <td>0</td>\n",
       "      <td>0</td>\n",
       "      <td>93826.63</td>\n",
       "      <td>0</td>\n",
       "      <td>0</td>\n",
       "      <td>0</td>\n",
       "    </tr>\n",
       "    <tr>\n",
       "      <th>4</th>\n",
       "      <td>850</td>\n",
       "      <td>43</td>\n",
       "      <td>2</td>\n",
       "      <td>125510.82</td>\n",
       "      <td>1</td>\n",
       "      <td>1</td>\n",
       "      <td>1</td>\n",
       "      <td>79084.10</td>\n",
       "      <td>0</td>\n",
       "      <td>1</td>\n",
       "      <td>0</td>\n",
       "    </tr>\n",
       "  </tbody>\n",
       "</table>\n",
       "</div>"
      ],
      "text/plain": [
       "   CreditScore  Age  Tenure    Balance  NumOfProducts  HasCrCard  \\\n",
       "0          619   42       2       0.00              1          1   \n",
       "1          608   41       1   83807.86              1          0   \n",
       "2          502   42       8  159660.80              3          1   \n",
       "3          699   39       1       0.00              2          0   \n",
       "4          850   43       2  125510.82              1          1   \n",
       "\n",
       "   IsActiveMember  EstimatedSalary  Germany  Spain  Male  \n",
       "0               1        101348.88        0      0     0  \n",
       "1               1        112542.58        0      1     0  \n",
       "2               0        113931.57        0      0     0  \n",
       "3               0         93826.63        0      0     0  \n",
       "4               1         79084.10        0      1     0  "
      ]
     },
     "execution_count": 5,
     "metadata": {},
     "output_type": "execute_result"
    }
   ],
   "source": [
    "geography=pd.get_dummies(X[\"Geography\"],drop_first=True)\n",
    "gender=pd.get_dummies(X['Gender'],drop_first=True)\n",
    "X=pd.concat([X,geography,gender],axis=1)\n",
    "X=X.drop(['Geography','Gender'],axis=1)\n",
    "X.head()"
   ]
  },
  {
   "cell_type": "code",
   "execution_count": 6,
   "metadata": {},
   "outputs": [
    {
     "name": "stdout",
     "output_type": "stream",
     "text": [
      "<class 'pandas.core.frame.DataFrame'>\n",
      "RangeIndex: 10000 entries, 0 to 9999\n",
      "Data columns (total 11 columns):\n",
      "CreditScore        10000 non-null int64\n",
      "Age                10000 non-null int64\n",
      "Tenure             10000 non-null int64\n",
      "Balance            10000 non-null float64\n",
      "NumOfProducts      10000 non-null int64\n",
      "HasCrCard          10000 non-null int64\n",
      "IsActiveMember     10000 non-null int64\n",
      "EstimatedSalary    10000 non-null float64\n",
      "Germany            10000 non-null uint8\n",
      "Spain              10000 non-null uint8\n",
      "Male               10000 non-null uint8\n",
      "dtypes: float64(2), int64(6), uint8(3)\n",
      "memory usage: 654.4 KB\n"
     ]
    }
   ],
   "source": [
    "X.info()"
   ]
  },
  {
   "cell_type": "code",
   "execution_count": 7,
   "metadata": {},
   "outputs": [],
   "source": [
    "from sklearn.model_selection import train_test_split\n",
    "\n",
    "X_train, X_test, y_train, y_test = train_test_split(X, y, test_size = 0.2, random_state = 0)"
   ]
  },
  {
   "cell_type": "code",
   "execution_count": 8,
   "metadata": {},
   "outputs": [],
   "source": [
    "from sklearn.preprocessing import StandardScaler\n",
    "sc = StandardScaler()\n",
    "X_train = sc.fit_transform(X_train)\n",
    "X_test = sc.transform(X_test)"
   ]
  },
  {
   "cell_type": "code",
   "execution_count": 9,
   "metadata": {},
   "outputs": [],
   "source": [
    "from keras.models import Sequential\n",
    "from keras.layers import Dense\n",
    "from keras.layers import LeakyReLU,PReLU,ELU\n",
    "from keras.layers import Dropout"
   ]
  },
  {
   "cell_type": "code",
   "execution_count": 10,
   "metadata": {},
   "outputs": [
    {
     "data": {
      "text/plain": [
       "(8000, 11)"
      ]
     },
     "execution_count": 10,
     "metadata": {},
     "output_type": "execute_result"
    }
   ],
   "source": [
    "X_train.shape"
   ]
  },
  {
   "cell_type": "code",
   "execution_count": 11,
   "metadata": {},
   "outputs": [
    {
     "name": "stderr",
     "output_type": "stream",
     "text": [
      "WARNING: Logging before flag parsing goes to stderr.\n",
      "W0904 18:23:59.500265 11280 deprecation_wrapper.py:119] From C:\\Users\\AAYUSH AGARWAL\\Anaconda3\\lib\\site-packages\\keras\\backend\\tensorflow_backend.py:74: The name tf.get_default_graph is deprecated. Please use tf.compat.v1.get_default_graph instead.\n",
      "\n"
     ]
    }
   ],
   "source": [
    "classifier = Sequential()"
   ]
  },
  {
   "cell_type": "code",
   "execution_count": 12,
   "metadata": {},
   "outputs": [
    {
     "name": "stderr",
     "output_type": "stream",
     "text": [
      "W0904 18:23:59.823568 11280 deprecation_wrapper.py:119] From C:\\Users\\AAYUSH AGARWAL\\Anaconda3\\lib\\site-packages\\keras\\backend\\tensorflow_backend.py:517: The name tf.placeholder is deprecated. Please use tf.compat.v1.placeholder instead.\n",
      "\n",
      "W0904 18:23:59.896522 11280 deprecation_wrapper.py:119] From C:\\Users\\AAYUSH AGARWAL\\Anaconda3\\lib\\site-packages\\keras\\backend\\tensorflow_backend.py:4138: The name tf.random_uniform is deprecated. Please use tf.random.uniform instead.\n",
      "\n"
     ]
    }
   ],
   "source": [
    "classifier.add(Dense(units = 6, kernel_initializer = 'he_uniform', activation='relu',input_dim = 11))\n",
    "classifier.add(Dense(units = 6, kernel_initializer = 'he_uniform', activation='relu'))\n",
    "classifier.add(Dense(units = 1, kernel_initializer = 'glorot_uniform', activation = 'sigmoid'))"
   ]
  },
  {
   "cell_type": "code",
   "execution_count": 13,
   "metadata": {},
   "outputs": [
    {
     "name": "stdout",
     "output_type": "stream",
     "text": [
      "_________________________________________________________________\n",
      "Layer (type)                 Output Shape              Param #   \n",
      "=================================================================\n",
      "dense_1 (Dense)              (None, 6)                 72        \n",
      "_________________________________________________________________\n",
      "dense_2 (Dense)              (None, 6)                 42        \n",
      "_________________________________________________________________\n",
      "dense_3 (Dense)              (None, 1)                 7         \n",
      "=================================================================\n",
      "Total params: 121\n",
      "Trainable params: 121\n",
      "Non-trainable params: 0\n",
      "_________________________________________________________________\n"
     ]
    }
   ],
   "source": [
    "classifier.summary()"
   ]
  },
  {
   "cell_type": "code",
   "execution_count": 14,
   "metadata": {},
   "outputs": [
    {
     "name": "stderr",
     "output_type": "stream",
     "text": [
      "W0904 18:24:00.054667 11280 deprecation_wrapper.py:119] From C:\\Users\\AAYUSH AGARWAL\\Anaconda3\\lib\\site-packages\\keras\\optimizers.py:790: The name tf.train.Optimizer is deprecated. Please use tf.compat.v1.train.Optimizer instead.\n",
      "\n",
      "W0904 18:24:00.082229 11280 deprecation_wrapper.py:119] From C:\\Users\\AAYUSH AGARWAL\\Anaconda3\\lib\\site-packages\\keras\\backend\\tensorflow_backend.py:3376: The name tf.log is deprecated. Please use tf.math.log instead.\n",
      "\n",
      "W0904 18:24:00.086230 11280 deprecation.py:323] From C:\\Users\\AAYUSH AGARWAL\\Anaconda3\\lib\\site-packages\\tensorflow\\python\\ops\\nn_impl.py:180: add_dispatch_support.<locals>.wrapper (from tensorflow.python.ops.array_ops) is deprecated and will be removed in a future version.\n",
      "Instructions for updating:\n",
      "Use tf.where in 2.0, which has the same broadcast rule as np.where\n"
     ]
    }
   ],
   "source": [
    "classifier.compile(optimizer = 'Adam', loss = 'binary_crossentropy', metrics = ['accuracy'])"
   ]
  },
  {
   "cell_type": "code",
   "execution_count": 15,
   "metadata": {},
   "outputs": [
    {
     "name": "stderr",
     "output_type": "stream",
     "text": [
      "W0904 18:24:00.570824 11280 deprecation_wrapper.py:119] From C:\\Users\\AAYUSH AGARWAL\\Anaconda3\\lib\\site-packages\\keras\\backend\\tensorflow_backend.py:986: The name tf.assign_add is deprecated. Please use tf.compat.v1.assign_add instead.\n",
      "\n"
     ]
    },
    {
     "name": "stdout",
     "output_type": "stream",
     "text": [
      "Train on 5359 samples, validate on 2641 samples\n",
      "Epoch 1/100\n",
      "5359/5359 [==============================] - 2s 322us/step - loss: 0.5487 - acc: 0.7778 - val_loss: 0.4906 - val_acc: 0.7929\n",
      "Epoch 2/100\n",
      "5359/5359 [==============================] - 1s 104us/step - loss: 0.4674 - acc: 0.7990 - val_loss: 0.4533 - val_acc: 0.7963\n",
      "Epoch 3/100\n",
      "5359/5359 [==============================] - 1s 105us/step - loss: 0.4442 - acc: 0.8044 - val_loss: 0.4413 - val_acc: 0.7974\n",
      "Epoch 4/100\n",
      "5359/5359 [==============================] - 1s 106us/step - loss: 0.4358 - acc: 0.8059 - val_loss: 0.4364 - val_acc: 0.8012\n",
      "Epoch 5/100\n",
      "5359/5359 [==============================] - 1s 104us/step - loss: 0.4314 - acc: 0.8095 - val_loss: 0.4338 - val_acc: 0.8042\n",
      "Epoch 6/100\n",
      "5359/5359 [==============================] - 1s 103us/step - loss: 0.4277 - acc: 0.8100 - val_loss: 0.4320 - val_acc: 0.8099\n",
      "Epoch 7/100\n",
      "5359/5359 [==============================] - 1s 98us/step - loss: 0.4243 - acc: 0.8112 - val_loss: 0.4300 - val_acc: 0.8076\n",
      "Epoch 8/100\n",
      "5359/5359 [==============================] - 1s 98us/step - loss: 0.4223 - acc: 0.8138 - val_loss: 0.4281 - val_acc: 0.8099\n",
      "Epoch 9/100\n",
      "5359/5359 [==============================] - 1s 97us/step - loss: 0.4196 - acc: 0.8153 - val_loss: 0.4270 - val_acc: 0.8099\n",
      "Epoch 10/100\n",
      "5359/5359 [==============================] - 1s 94us/step - loss: 0.4167 - acc: 0.8192 - val_loss: 0.4249 - val_acc: 0.8171\n",
      "Epoch 11/100\n",
      "5359/5359 [==============================] - 1s 102us/step - loss: 0.4135 - acc: 0.8222 - val_loss: 0.4232 - val_acc: 0.8175\n",
      "Epoch 12/100\n",
      "5359/5359 [==============================] - 1s 97us/step - loss: 0.4105 - acc: 0.8266 - val_loss: 0.4195 - val_acc: 0.8190\n",
      "Epoch 13/100\n",
      "5359/5359 [==============================] - 1s 98us/step - loss: 0.4075 - acc: 0.8283 - val_loss: 0.4174 - val_acc: 0.8220\n",
      "Epoch 14/100\n",
      "5359/5359 [==============================] - 1s 102us/step - loss: 0.4051 - acc: 0.8326 - val_loss: 0.4158 - val_acc: 0.8220\n",
      "Epoch 15/100\n",
      "5359/5359 [==============================] - 1s 98us/step - loss: 0.4035 - acc: 0.8302 - val_loss: 0.4141 - val_acc: 0.8232\n",
      "Epoch 16/100\n",
      "5359/5359 [==============================] - 1s 102us/step - loss: 0.4016 - acc: 0.8339 - val_loss: 0.4136 - val_acc: 0.8224\n",
      "Epoch 17/100\n",
      "5359/5359 [==============================] - 1s 105us/step - loss: 0.4006 - acc: 0.8336 - val_loss: 0.4121 - val_acc: 0.8247\n",
      "Epoch 18/100\n",
      "5359/5359 [==============================] - 1s 104us/step - loss: 0.3993 - acc: 0.8356 - val_loss: 0.4110 - val_acc: 0.8270\n",
      "Epoch 19/100\n",
      "5359/5359 [==============================] - 1s 103us/step - loss: 0.3982 - acc: 0.8364 - val_loss: 0.4112 - val_acc: 0.8273\n",
      "Epoch 20/100\n",
      "5359/5359 [==============================] - 1s 103us/step - loss: 0.3970 - acc: 0.8360 - val_loss: 0.4101 - val_acc: 0.8281\n",
      "Epoch 21/100\n",
      "5359/5359 [==============================] - 1s 101us/step - loss: 0.3959 - acc: 0.8365 - val_loss: 0.4101 - val_acc: 0.8285\n",
      "Epoch 22/100\n",
      "5359/5359 [==============================] - 1s 105us/step - loss: 0.3948 - acc: 0.8373 - val_loss: 0.4095 - val_acc: 0.8300\n",
      "Epoch 23/100\n",
      "5359/5359 [==============================] - 1s 104us/step - loss: 0.3943 - acc: 0.8371 - val_loss: 0.4094 - val_acc: 0.8273\n",
      "Epoch 24/100\n",
      "5359/5359 [==============================] - 1s 103us/step - loss: 0.3934 - acc: 0.8371 - val_loss: 0.4096 - val_acc: 0.8300\n",
      "Epoch 25/100\n",
      "5359/5359 [==============================] - 1s 100us/step - loss: 0.3932 - acc: 0.8371 - val_loss: 0.4084 - val_acc: 0.8277\n",
      "Epoch 26/100\n",
      "5359/5359 [==============================] - 1s 103us/step - loss: 0.3926 - acc: 0.8371 - val_loss: 0.4082 - val_acc: 0.8292\n",
      "Epoch 27/100\n",
      "5359/5359 [==============================] - 1s 105us/step - loss: 0.3922 - acc: 0.8384 - val_loss: 0.4078 - val_acc: 0.8285\n",
      "Epoch 28/100\n",
      "5359/5359 [==============================] - 1s 103us/step - loss: 0.3914 - acc: 0.8401 - val_loss: 0.4082 - val_acc: 0.8292\n",
      "Epoch 29/100\n",
      "5359/5359 [==============================] - 1s 100us/step - loss: 0.3912 - acc: 0.8388 - val_loss: 0.4073 - val_acc: 0.8296\n",
      "Epoch 30/100\n",
      "5359/5359 [==============================] - 1s 99us/step - loss: 0.3905 - acc: 0.8391 - val_loss: 0.4073 - val_acc: 0.8292\n",
      "Epoch 31/100\n",
      "5359/5359 [==============================] - 1s 98us/step - loss: 0.3904 - acc: 0.8390 - val_loss: 0.4071 - val_acc: 0.8277\n",
      "Epoch 32/100\n",
      "5359/5359 [==============================] - 1s 102us/step - loss: 0.3895 - acc: 0.8384 - val_loss: 0.4081 - val_acc: 0.8292\n",
      "Epoch 33/100\n",
      "5359/5359 [==============================] - 1s 103us/step - loss: 0.3893 - acc: 0.8390 - val_loss: 0.4067 - val_acc: 0.8300\n",
      "Epoch 34/100\n",
      "5359/5359 [==============================] - 1s 103us/step - loss: 0.3889 - acc: 0.8397 - val_loss: 0.4060 - val_acc: 0.8307\n",
      "Epoch 35/100\n",
      "5359/5359 [==============================] - 1s 104us/step - loss: 0.3876 - acc: 0.8390 - val_loss: 0.4064 - val_acc: 0.8300\n",
      "Epoch 36/100\n",
      "5359/5359 [==============================] - 1s 105us/step - loss: 0.3874 - acc: 0.8399 - val_loss: 0.4058 - val_acc: 0.8296\n",
      "Epoch 37/100\n",
      "5359/5359 [==============================] - 1s 100us/step - loss: 0.3876 - acc: 0.8410 - val_loss: 0.4061 - val_acc: 0.8307\n",
      "Epoch 38/100\n",
      "5359/5359 [==============================] - 1s 99us/step - loss: 0.3868 - acc: 0.8395 - val_loss: 0.4042 - val_acc: 0.8330\n",
      "Epoch 39/100\n",
      "5359/5359 [==============================] - 1s 103us/step - loss: 0.3865 - acc: 0.8408 - val_loss: 0.4041 - val_acc: 0.8319\n",
      "Epoch 40/100\n",
      "5359/5359 [==============================] - 1s 106us/step - loss: 0.3861 - acc: 0.8403 - val_loss: 0.4038 - val_acc: 0.8319\n",
      "Epoch 41/100\n",
      "5359/5359 [==============================] - 1s 97us/step - loss: 0.3858 - acc: 0.8390 - val_loss: 0.4041 - val_acc: 0.8304\n",
      "Epoch 42/100\n",
      "5359/5359 [==============================] - 1s 106us/step - loss: 0.3850 - acc: 0.8382 - val_loss: 0.4029 - val_acc: 0.8311\n",
      "Epoch 43/100\n",
      "5359/5359 [==============================] - 1s 102us/step - loss: 0.3846 - acc: 0.8399 - val_loss: 0.4024 - val_acc: 0.8326\n",
      "Epoch 44/100\n",
      "5359/5359 [==============================] - 1s 106us/step - loss: 0.3846 - acc: 0.8382 - val_loss: 0.4015 - val_acc: 0.8342\n",
      "Epoch 45/100\n",
      "5359/5359 [==============================] - 1s 96us/step - loss: 0.3832 - acc: 0.8399 - val_loss: 0.4017 - val_acc: 0.8326\n",
      "Epoch 46/100\n",
      "5359/5359 [==============================] - 1s 101us/step - loss: 0.3825 - acc: 0.8373 - val_loss: 0.4008 - val_acc: 0.8326\n",
      "Epoch 47/100\n",
      "5359/5359 [==============================] - 1s 99us/step - loss: 0.3816 - acc: 0.8397 - val_loss: 0.3997 - val_acc: 0.8323\n",
      "Epoch 48/100\n",
      "5359/5359 [==============================] - 1s 100us/step - loss: 0.3807 - acc: 0.8399 - val_loss: 0.4015 - val_acc: 0.8323\n",
      "Epoch 49/100\n",
      "5359/5359 [==============================] - 1s 99us/step - loss: 0.3797 - acc: 0.8403 - val_loss: 0.3972 - val_acc: 0.8334\n",
      "Epoch 50/100\n",
      "5359/5359 [==============================] - 1s 103us/step - loss: 0.3782 - acc: 0.8397 - val_loss: 0.3946 - val_acc: 0.8323\n",
      "Epoch 51/100\n",
      "5359/5359 [==============================] - 1s 102us/step - loss: 0.3774 - acc: 0.8403 - val_loss: 0.3932 - val_acc: 0.8334\n",
      "Epoch 52/100\n",
      "5359/5359 [==============================] - 1s 101us/step - loss: 0.3759 - acc: 0.8408 - val_loss: 0.3902 - val_acc: 0.8334\n",
      "Epoch 53/100\n",
      "5359/5359 [==============================] - 1s 96us/step - loss: 0.3741 - acc: 0.8449 - val_loss: 0.3876 - val_acc: 0.8338\n",
      "Epoch 54/100\n",
      "5359/5359 [==============================] - 1s 102us/step - loss: 0.3720 - acc: 0.8459 - val_loss: 0.3864 - val_acc: 0.8357\n",
      "Epoch 55/100\n",
      "5359/5359 [==============================] - 1s 96us/step - loss: 0.3707 - acc: 0.8461 - val_loss: 0.3837 - val_acc: 0.8402\n",
      "Epoch 56/100\n",
      "5359/5359 [==============================] - 1s 101us/step - loss: 0.3679 - acc: 0.8500 - val_loss: 0.3836 - val_acc: 0.8387\n",
      "Epoch 57/100\n",
      "5359/5359 [==============================] - 1s 100us/step - loss: 0.3668 - acc: 0.8485 - val_loss: 0.3804 - val_acc: 0.8429\n",
      "Epoch 58/100\n",
      "5359/5359 [==============================] - 1s 101us/step - loss: 0.3647 - acc: 0.8505 - val_loss: 0.3776 - val_acc: 0.8440\n",
      "Epoch 59/100\n",
      "5359/5359 [==============================] - 1s 102us/step - loss: 0.3617 - acc: 0.8509 - val_loss: 0.3792 - val_acc: 0.8459\n",
      "Epoch 60/100\n"
     ]
    },
    {
     "name": "stdout",
     "output_type": "stream",
     "text": [
      "5359/5359 [==============================] - 1s 98us/step - loss: 0.3596 - acc: 0.8505 - val_loss: 0.3733 - val_acc: 0.8425\n",
      "Epoch 61/100\n",
      "5359/5359 [==============================] - 1s 101us/step - loss: 0.3569 - acc: 0.8505 - val_loss: 0.3718 - val_acc: 0.8440\n",
      "Epoch 62/100\n",
      "5359/5359 [==============================] - 1s 100us/step - loss: 0.3534 - acc: 0.8545 - val_loss: 0.3704 - val_acc: 0.8425\n",
      "Epoch 63/100\n",
      "5359/5359 [==============================] - 1s 103us/step - loss: 0.3511 - acc: 0.8561 - val_loss: 0.3684 - val_acc: 0.8436\n",
      "Epoch 64/100\n",
      "5359/5359 [==============================] - 1s 99us/step - loss: 0.3492 - acc: 0.8569 - val_loss: 0.3662 - val_acc: 0.8466\n",
      "Epoch 65/100\n",
      "5359/5359 [==============================] - 1s 99us/step - loss: 0.3461 - acc: 0.8595 - val_loss: 0.3654 - val_acc: 0.8417\n",
      "Epoch 66/100\n",
      "5359/5359 [==============================] - 1s 96us/step - loss: 0.3443 - acc: 0.8606 - val_loss: 0.3639 - val_acc: 0.8421\n",
      "Epoch 67/100\n",
      "5359/5359 [==============================] - 1s 99us/step - loss: 0.3421 - acc: 0.8593 - val_loss: 0.3629 - val_acc: 0.8478\n",
      "Epoch 68/100\n",
      "5359/5359 [==============================] - 1s 98us/step - loss: 0.3409 - acc: 0.8615 - val_loss: 0.3628 - val_acc: 0.8444\n",
      "Epoch 69/100\n",
      "5359/5359 [==============================] - 1s 99us/step - loss: 0.3392 - acc: 0.8623 - val_loss: 0.3623 - val_acc: 0.8466\n",
      "Epoch 70/100\n",
      "5359/5359 [==============================] - 1s 99us/step - loss: 0.3363 - acc: 0.8619 - val_loss: 0.3629 - val_acc: 0.8436\n",
      "Epoch 71/100\n",
      "5359/5359 [==============================] - 1s 96us/step - loss: 0.3359 - acc: 0.8606 - val_loss: 0.3609 - val_acc: 0.8485\n",
      "Epoch 72/100\n",
      "5359/5359 [==============================] - 1s 101us/step - loss: 0.3352 - acc: 0.8656 - val_loss: 0.3608 - val_acc: 0.8470\n",
      "Epoch 73/100\n",
      "5359/5359 [==============================] - 1s 101us/step - loss: 0.3339 - acc: 0.8651 - val_loss: 0.3593 - val_acc: 0.8501\n",
      "Epoch 74/100\n",
      "5359/5359 [==============================] - 1s 99us/step - loss: 0.3341 - acc: 0.8658 - val_loss: 0.3587 - val_acc: 0.8508\n",
      "Epoch 75/100\n",
      "5359/5359 [==============================] - 1s 100us/step - loss: 0.3331 - acc: 0.8638 - val_loss: 0.3597 - val_acc: 0.8440\n",
      "Epoch 76/100\n",
      "5359/5359 [==============================] - 1s 102us/step - loss: 0.3327 - acc: 0.8643 - val_loss: 0.3584 - val_acc: 0.8527\n",
      "Epoch 77/100\n",
      "5359/5359 [==============================] - 1s 100us/step - loss: 0.3318 - acc: 0.8656 - val_loss: 0.3582 - val_acc: 0.8459\n",
      "Epoch 78/100\n",
      "5359/5359 [==============================] - 1s 99us/step - loss: 0.3315 - acc: 0.8666 - val_loss: 0.3580 - val_acc: 0.8535\n",
      "Epoch 79/100\n",
      "5359/5359 [==============================] - 1s 101us/step - loss: 0.3313 - acc: 0.8662 - val_loss: 0.3588 - val_acc: 0.8523\n",
      "Epoch 80/100\n",
      "5359/5359 [==============================] - 1s 102us/step - loss: 0.3313 - acc: 0.8643 - val_loss: 0.3585 - val_acc: 0.8497\n",
      "Epoch 81/100\n",
      "5359/5359 [==============================] - 1s 99us/step - loss: 0.3308 - acc: 0.8640 - val_loss: 0.3596 - val_acc: 0.8538\n",
      "Epoch 82/100\n",
      "5359/5359 [==============================] - 1s 98us/step - loss: 0.3309 - acc: 0.8649 - val_loss: 0.3572 - val_acc: 0.8565\n",
      "Epoch 83/100\n",
      "5359/5359 [==============================] - 1s 99us/step - loss: 0.3295 - acc: 0.8664 - val_loss: 0.3564 - val_acc: 0.8554\n",
      "Epoch 84/100\n",
      "5359/5359 [==============================] - 1s 99us/step - loss: 0.3307 - acc: 0.8662 - val_loss: 0.3573 - val_acc: 0.8535\n",
      "Epoch 85/100\n",
      "5359/5359 [==============================] - 1s 99us/step - loss: 0.3298 - acc: 0.8653 - val_loss: 0.3576 - val_acc: 0.8520\n",
      "Epoch 86/100\n",
      "5359/5359 [==============================] - 1s 98us/step - loss: 0.3304 - acc: 0.8625 - val_loss: 0.3563 - val_acc: 0.8538\n",
      "Epoch 87/100\n",
      "5359/5359 [==============================] - 1s 99us/step - loss: 0.3296 - acc: 0.8660 - val_loss: 0.3560 - val_acc: 0.8542\n",
      "Epoch 88/100\n",
      "5359/5359 [==============================] - 1s 102us/step - loss: 0.3296 - acc: 0.8666 - val_loss: 0.3585 - val_acc: 0.8550\n",
      "Epoch 89/100\n",
      "5359/5359 [==============================] - 1s 101us/step - loss: 0.3300 - acc: 0.8651 - val_loss: 0.3559 - val_acc: 0.8554\n",
      "Epoch 90/100\n",
      "5359/5359 [==============================] - 1s 99us/step - loss: 0.3298 - acc: 0.8649 - val_loss: 0.3558 - val_acc: 0.8565\n",
      "Epoch 91/100\n",
      "5359/5359 [==============================] - 1s 103us/step - loss: 0.3301 - acc: 0.8640 - val_loss: 0.3573 - val_acc: 0.8573\n",
      "Epoch 92/100\n",
      "5359/5359 [==============================] - 1s 99us/step - loss: 0.3297 - acc: 0.8655 - val_loss: 0.3557 - val_acc: 0.8573\n",
      "Epoch 93/100\n",
      "5359/5359 [==============================] - 1s 95us/step - loss: 0.3295 - acc: 0.8679 - val_loss: 0.3551 - val_acc: 0.8573\n",
      "Epoch 94/100\n",
      "5359/5359 [==============================] - 1s 99us/step - loss: 0.3290 - acc: 0.8675 - val_loss: 0.3561 - val_acc: 0.8561\n",
      "Epoch 95/100\n",
      "5359/5359 [==============================] - 1s 102us/step - loss: 0.3288 - acc: 0.8658 - val_loss: 0.3562 - val_acc: 0.8546\n",
      "Epoch 96/100\n",
      "5359/5359 [==============================] - 1s 99us/step - loss: 0.3286 - acc: 0.8660 - val_loss: 0.3571 - val_acc: 0.8561\n",
      "Epoch 97/100\n",
      "5359/5359 [==============================] - 1s 104us/step - loss: 0.3293 - acc: 0.8671 - val_loss: 0.3549 - val_acc: 0.8569\n",
      "Epoch 98/100\n",
      "5359/5359 [==============================] - 1s 100us/step - loss: 0.3290 - acc: 0.8673 - val_loss: 0.3558 - val_acc: 0.8550\n",
      "Epoch 99/100\n",
      "5359/5359 [==============================] - ETA: 0s - loss: 0.3286 - acc: 0.865 - 1s 100us/step - loss: 0.3282 - acc: 0.8664 - val_loss: 0.3592 - val_acc: 0.8573\n",
      "Epoch 100/100\n",
      "5359/5359 [==============================] - 1s 102us/step - loss: 0.3300 - acc: 0.8649 - val_loss: 0.3568 - val_acc: 0.8538\n"
     ]
    }
   ],
   "source": [
    "model_history=classifier.fit(X_train, y_train,validation_split=0.33, batch_size = 10, epochs = 100)"
   ]
  },
  {
   "cell_type": "code",
   "execution_count": 16,
   "metadata": {},
   "outputs": [],
   "source": [
    "y_pred = classifier.predict(X_test)\n",
    "y_pred = (y_pred > 0.5)"
   ]
  },
  {
   "cell_type": "code",
   "execution_count": 17,
   "metadata": {},
   "outputs": [
    {
     "name": "stdout",
     "output_type": "stream",
     "text": [
      "[[1503   92]\n",
      " [ 192  213]]\n"
     ]
    }
   ],
   "source": [
    "from sklearn.metrics import confusion_matrix\n",
    "cm = confusion_matrix(y_test, y_pred)\n",
    "print(cm)"
   ]
  },
  {
   "cell_type": "code",
   "execution_count": 18,
   "metadata": {},
   "outputs": [
    {
     "name": "stdout",
     "output_type": "stream",
     "text": [
      "0.858\n"
     ]
    }
   ],
   "source": [
    "from sklearn.metrics import accuracy_score\n",
    "score=accuracy_score(y_pred,y_test)\n",
    "print(score)"
   ]
  }
 ],
 "metadata": {
  "kernelspec": {
   "display_name": "Python 3",
   "language": "python",
   "name": "python3"
  },
  "language_info": {
   "codemirror_mode": {
    "name": "ipython",
    "version": 3
   },
   "file_extension": ".py",
   "mimetype": "text/x-python",
   "name": "python",
   "nbconvert_exporter": "python",
   "pygments_lexer": "ipython3",
   "version": "3.7.3"
  }
 },
 "nbformat": 4,
 "nbformat_minor": 2
}
